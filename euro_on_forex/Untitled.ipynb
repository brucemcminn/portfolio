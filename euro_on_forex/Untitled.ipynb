{
 "cells": [
  {
   "cell_type": "markdown",
   "id": "42147e98",
   "metadata": {},
   "source": [
    "# **The Euro on Forex**\n",
    "## **Exploring Twenty Years of Volatility**\n",
    "### Very Brief History\n",
    "The currency exchange market has been around since coins were first used. At the end of the 1800s the development of the gold standard fixed currency values to a certain amount of gold, allowing for an internationally stable monetary system (1). Eventually the amount of gold was not enough to keep up with the demand for currency. After World War II the Bretton Woods Accord set the US Dollar as the global fixed currency. This created an adjustable rate exchange, but it was still determined by central banks and state actors (2). The US dollar was pegged to gold at the time, and during the 1970s the same liquidity problem (i.e. amount of gold vs currency in circulation) occurred. In August of 1971 President Richard Nixon unilaterally canceled direct international convertibility of the US dollar to gold, inadvertently beginning a regime of free-floating currencies (3).\n",
    "\n",
    "### Today\n",
    "The modern foreign exchange market (Forex, FX, or currency market) is a direct broker to dealer global marketplace that determines the market value and exchange rate of currencies all over the world. It is open 24 hours a day, 5 days a week. Currencies are always traded in pairs, and the value expressed is of one currency relative to another. For example, at the end of the day on 11/19/21 the Euro to US dollar rate was 1.13, or $1.13 equals €1. All of the twenty most traded currencies are free-floating, their value is determined by political conditions, economic factors and market psychology.\n",
    "\n",
    "Forex is by far the largest financial market in the world, in 2019 having a daily volume of over $6.6 trillion (4). The Euro to US dollar (EURUSD) is the most traded currency pair, taking about 30% of the multi-billion dollar Forex turnover (5).\n",
    "\n",
    "### Methodology\n",
    "This study examines the more than two decades of exchange rates for the Euro. It uses the 2019 Triennial Central Bank Survey by the Bank for International Settlements to determine four currencies that represent large portions of the market and four currencies that represent small portions of the market. The highly traded currencies are the US dollar, Japanese yen, UK pound, and Australian dollar. The Israeli shekel, Phillipine peso, Malaysian ringgit, and Romanian leu comprise the group of least traded currencies.\n",
    "\n",
    "The data set used is based on daily closing values provided by the European Central Bank and compiled by Daria Chemkaeva. It is updated weekly, the version used for this study was downloaded from Kaggle in November 2021.\n",
    "\n",
    "### Summary\n",
    "* This study demonstrates that geopolitics has broad influence on the foreign exchange market. This is shown through the correlation between historical events and changes in FOREX.\n",
    "* This study also reveals global and regional synchronicity in exchange rate volatility."
   ]
  },
  {
   "cell_type": "markdown",
   "id": "8373d967",
   "metadata": {},
   "source": [
    "## **Euro & Traded Pairs**\n",
    "### Euro to Highly Traded Currencies\n",
    "The first set of line graphs represent the exchange rates for the Euro to the US dollar, Japanese yen, UK pound, and Australian dollar. These four currencies, in addition to the Euro, are the top five currencies in the Forex market. All five together comprise over 75% of daily trades (4).\n",
    "### Euro to Least Traded Currencies\n",
    "The second set of graphs represent the exchange rates for the Euro to the Israeli shekel, Philippine peso, Malaysian ringgit, and Romanian leu. These four currencies have low trade volumes, they comprise less than 0.4% of daily trades (4)."
   ]
  },
  {
   "cell_type": "markdown",
   "id": "de9df6ac",
   "metadata": {},
   "source": [
    "<img src=\"euro to high.png\" width=\"1000\" align=\"center\">\n",
    "<img src=\"euro to low.png\" width=\"1000\" align=\"center\">"
   ]
  },
  {
   "cell_type": "markdown",
   "id": "df8ba05c",
   "metadata": {},
   "source": [
    "## **Euro & Traded Pairs Conclusion**\n",
    "\n",
    "### High Frequency Pairs\n",
    "* The US dollar, Japanese yen, and UK pound all show a tight ratio (1:1) with the Euro in the early 2000s.\n",
    "* Both the Japanese yen and Australian dollar have a period in 2011 or 2012 where the exchange ratio gets tight and then rebounds. Is it really at the same time? Are there any other countries with the same pattern and what could the cause have been?\n",
    "### Low Frequency Pairs\n",
    "* The Israeli shekel appears to have steadily closed it's ratio to the Euro over the last two decades, while the Romanian leu is definitely loosing value.\n",
    "* The shekel and leu appear to be fairly stable, or have low volatility.\n",
    "* The Israeli shekel, Malaysian ringgit, and Phillipine peso also show the tight ratio of the early 2000s.\n",
    "\n",
    "## **Alignments**\n",
    "We can answer some questions and come up with some new ones by overlapping graphs of the exchange rates. Closer looks will often reveal how currencies respond to similar events. The graph below examines the rate for the Euro to the four major currencies simultaneously."
   ]
  },
  {
   "cell_type": "markdown",
   "id": "84100a83",
   "metadata": {},
   "source": [
    "<img src=\"alignment.png\" width=\"1000\" align=\"center\">"
   ]
  },
  {
   "cell_type": "markdown",
   "id": "a3f5bcd0",
   "metadata": {},
   "source": [
    "## **Alignments Conclusion**\n",
    "The overlay of the four major currencies shows some very interesting patterns. Broadly speaking, there are periods of strong alignment, divergent alignment, and times with minimal correlation.\n",
    "* The Japanese yen, UK pound, and US dollar all track closely from the start of data collection through the early years following the September 11 attacks in the US.\n",
    "* The September 11 attacks also mark a long period where those three currencies have a looser trade ratio with the Euro. It is not evident if this is due to a strong Euro or if the other currencies are trading lower in conjunction.\n",
    "* In October of 2008 the US President, Treasury Secretary, and Congress enacted the Emergency Economic Stabilization Act, the main pillar of which was the $700 billion Troubled Asset Relief Program (7). This was in response to the 2007-2008 Financial Crises and led to an \"unprecedented federal intervention to rescue banks and restore confidence to the finance sector\" (8). It marks an interesting point in the Alignment of Euro/High Frequency Pairs graph, and can be seen more closely in the zoomed image below.\n",
    "<div>\n",
    "<img src=\"zoom.png\" width=\"600\"/>\n",
    "</div>\n",
    "* Lastly, all four trading currencies can be seen responding in a similar way to the 2012 European Debt Crises, by tightening the trading ratio with Euro. On September 06 of that year the European Central Bank announced an open-ended and unlimited period of buying distressed bonds from all Eurozone countries involved in a sovereign state bailout program (9). This was seen as the most dramatic move to that date (10). The Alignment of Euro/High Frequency Pairs graph would seem to indicate that at this point the Euro stopped it's dramatic slide towards a 1:1 ratio and quickly gained ground on the Japanese yen and Australian dollar.\n",
    "\n",
    "## **Volatility**\n",
    "A basic explanation of market volatility is the amount of price change for a commodity in a given period of time. This can be seen for stocks, on the FOREX, or in many other places. For traders, especially day and swing traders, volatility is a key component for making financial decisions. To make money in the financial market there must be price movement. Managing the opportunities and risks requires continuous tracking of volatility and associated indicators. This study looks at annual volatility, first for the eight traded currencies and then on a global map for the entire dataset. This broad of a time frame is unlikely to be used for making a specific trade. However, it can reveal patterns that could be used for building a more robust algorithm."
   ]
  },
  {
   "cell_type": "markdown",
   "id": "76e231f4",
   "metadata": {},
   "source": [
    "<img src=\"annual volatility major.png\" width=\"1000\" align=\"center\">\n",
    "<img src=\"annual volatility minor.png\" width=\"1000\" align=\"center\">"
   ]
  },
  {
   "cell_type": "markdown",
   "id": "b7706257",
   "metadata": {},
   "source": [
    "<img src=\"map_gif.gif\" width=\"1000\" align=\"center\">"
   ]
  },
  {
   "cell_type": "markdown",
   "id": "a751c6bf",
   "metadata": {},
   "source": [
    "## **Volatility Conclusion**\n",
    "* The Annual Volatility bar charts appear to show a cyclical pattern in the exchange rate for the Euro to the other trading currencies. It is more apparent with some than others. This pattern repeats at similar but not matching intervals. This suggests that market forces have corresponding effects.\n",
    "* The bar chart also shows that annual volatility has decreased over the entire span of time for the Romanian leu and, to a lesser extent, the Israeli shekel. This somewhat linear pattern is difficult for capitalizing on. It also points to some specific type of political or economic story.\n",
    "* The Annual Volatility map confirms that volatility is often distributed evenly throughout all the trading currencies in the data set. It also shows that some outliers retain there uniqueness for multiple years. Russia, Turkey, and South Africa all stand out. The map also reveals the absence of data for large and important geographic areas and specific countries. This includes Central and South America, Africa, and the Middle East as well as Spain, France, and Germany.\n",
    "\n",
    "## **Further Research**\n",
    "Examining the historical alignments for the exchange rates of various currencies is a promising avenue. This could be used to illuminate the bi-directional influence of geo-political events and regional economies. Creating a robust interactive tool would allow the researcher increased focus and granularity by allowing them to select specific countries and time periods.\n",
    "\n",
    "The volatility information this study examined is only the tip of the iceberg for this type of analysis. Incorporating a slider to choose the time frame would greatly increase the ability to make informed trading decisions. This data set provides information that would range down to daily rates, but obviously this could be in much smaller increments. In addition to the bar chart and maps, a line graph with bollinger bars will show more detail. \n",
    "\n",
    "## **Citations**\n",
    "1. Eichengreen, Barry. “Globalizing Capital.” 2009, https://doi.org/10.1515/9781400828814.\n",
    "2. \"Bretton Woods System - Wikipedia\". en.wikipedia.org, 2022, https://en.wikipedia.org/wiki/Bretton_Woods_system.\n",
    "3. Ghizoni. \"Nixon Ends Convertibility Of U.S. Dollars To Gold And Announces Wage/Price Controls | Federal Reserve History\". Federalreservehistory.org, 2022, https://www.federalreservehistory.org/essays/gold-convertibility-ends.\n",
    "4. \"Foreign Exchange Turnover In April 2019\". bis.org, 2022, https://www.bis.org/statistics/rpfx19_fx.htm.\n",
    "5. \"The Most Traded Currency Pairs In Forex (2022 Edition)\". FXSSI - Forex Sentiment Board, 2022, https://fxssi.com/the-most-traded-currency-pairs.\n",
    "6. Chemkaeva. \"Daily Exchange Rates Per Euro 1999-2022\". kaggle.com, 2022, https://www.kaggle.com/lsind18/euro-exchange-daily-rates-19992020.\n",
    "7. \"Emergency Economic Stabilization Act Of 2008 - Wikipedia\". En.Wikipedia.Org, 2022, https://en.wikipedia.org/wiki/Emergency_Economic_Stabilization_Act_of_2008.\n",
    "8. David, Marc. \"US Government Financial Bailouts\". Investopedia, 2022, https://www.investopedia.com/articles/economics/08/government-financial-bailout.asp.\n",
    "9. \"European Debt Crisis - Wikipedia\". En.Wikipedia.Org, 2022, https://en.wikipedia.org/wiki/European_debt_crisis#cite_note-ecb-6.\n",
    "10. Traynor, Ian. \"ECB Introduces Unlimited Bond-Buying In Boldest Attempt Yet To End Euro Crisis\". The Guardian, 2012, https://www.theguardian.com/business/2012/sep/06/debt-crisis-mario-draghi."
   ]
  }
 ],
 "metadata": {
  "hide_input": false,
  "kernelspec": {
   "display_name": "Python 3 (ipykernel)",
   "language": "python",
   "name": "python3"
  },
  "language_info": {
   "codemirror_mode": {
    "name": "ipython",
    "version": 3
   },
   "file_extension": ".py",
   "mimetype": "text/x-python",
   "name": "python",
   "nbconvert_exporter": "python",
   "pygments_lexer": "ipython3",
   "version": "3.8.5"
  },
  "latex_envs": {
   "LaTeX_envs_menu_present": true,
   "autoclose": false,
   "autocomplete": true,
   "bibliofile": "biblio.bib",
   "cite_by": "apalike",
   "current_citInitial": 1,
   "eqLabelWithNumbers": true,
   "eqNumInitial": 1,
   "hotkeys": {
    "equation": "Ctrl-E",
    "itemize": "Ctrl-I"
   },
   "labels_anchors": false,
   "latex_user_defs": false,
   "report_style_numbering": false,
   "user_envs_cfg": false
  }
 },
 "nbformat": 4,
 "nbformat_minor": 5
}
